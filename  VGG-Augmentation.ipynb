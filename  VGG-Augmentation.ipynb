{
 "cells": [
  {
   "cell_type": "code",
   "execution_count": 1,
   "metadata": {},
   "outputs": [
    {
     "name": "stderr",
     "output_type": "stream",
     "text": [
      "C:\\Users\\joshi\\Anaconda3\\envs\\tfcpu\\lib\\site-packages\\tensorflow\\python\\framework\\dtypes.py:516: FutureWarning: Passing (type, 1) or '1type' as a synonym of type is deprecated; in a future version of numpy, it will be understood as (type, (1,)) / '(1,)type'.\n",
      "  _np_qint8 = np.dtype([(\"qint8\", np.int8, 1)])\n",
      "C:\\Users\\joshi\\Anaconda3\\envs\\tfcpu\\lib\\site-packages\\tensorflow\\python\\framework\\dtypes.py:517: FutureWarning: Passing (type, 1) or '1type' as a synonym of type is deprecated; in a future version of numpy, it will be understood as (type, (1,)) / '(1,)type'.\n",
      "  _np_quint8 = np.dtype([(\"quint8\", np.uint8, 1)])\n",
      "C:\\Users\\joshi\\Anaconda3\\envs\\tfcpu\\lib\\site-packages\\tensorflow\\python\\framework\\dtypes.py:518: FutureWarning: Passing (type, 1) or '1type' as a synonym of type is deprecated; in a future version of numpy, it will be understood as (type, (1,)) / '(1,)type'.\n",
      "  _np_qint16 = np.dtype([(\"qint16\", np.int16, 1)])\n",
      "C:\\Users\\joshi\\Anaconda3\\envs\\tfcpu\\lib\\site-packages\\tensorflow\\python\\framework\\dtypes.py:519: FutureWarning: Passing (type, 1) or '1type' as a synonym of type is deprecated; in a future version of numpy, it will be understood as (type, (1,)) / '(1,)type'.\n",
      "  _np_quint16 = np.dtype([(\"quint16\", np.uint16, 1)])\n",
      "C:\\Users\\joshi\\Anaconda3\\envs\\tfcpu\\lib\\site-packages\\tensorflow\\python\\framework\\dtypes.py:520: FutureWarning: Passing (type, 1) or '1type' as a synonym of type is deprecated; in a future version of numpy, it will be understood as (type, (1,)) / '(1,)type'.\n",
      "  _np_qint32 = np.dtype([(\"qint32\", np.int32, 1)])\n",
      "C:\\Users\\joshi\\Anaconda3\\envs\\tfcpu\\lib\\site-packages\\tensorflow\\python\\framework\\dtypes.py:525: FutureWarning: Passing (type, 1) or '1type' as a synonym of type is deprecated; in a future version of numpy, it will be understood as (type, (1,)) / '(1,)type'.\n",
      "  np_resource = np.dtype([(\"resource\", np.ubyte, 1)])\n",
      "C:\\Users\\joshi\\Anaconda3\\envs\\tfcpu\\lib\\site-packages\\tensorboard\\compat\\tensorflow_stub\\dtypes.py:541: FutureWarning: Passing (type, 1) or '1type' as a synonym of type is deprecated; in a future version of numpy, it will be understood as (type, (1,)) / '(1,)type'.\n",
      "  _np_qint8 = np.dtype([(\"qint8\", np.int8, 1)])\n",
      "C:\\Users\\joshi\\Anaconda3\\envs\\tfcpu\\lib\\site-packages\\tensorboard\\compat\\tensorflow_stub\\dtypes.py:542: FutureWarning: Passing (type, 1) or '1type' as a synonym of type is deprecated; in a future version of numpy, it will be understood as (type, (1,)) / '(1,)type'.\n",
      "  _np_quint8 = np.dtype([(\"quint8\", np.uint8, 1)])\n",
      "C:\\Users\\joshi\\Anaconda3\\envs\\tfcpu\\lib\\site-packages\\tensorboard\\compat\\tensorflow_stub\\dtypes.py:543: FutureWarning: Passing (type, 1) or '1type' as a synonym of type is deprecated; in a future version of numpy, it will be understood as (type, (1,)) / '(1,)type'.\n",
      "  _np_qint16 = np.dtype([(\"qint16\", np.int16, 1)])\n",
      "C:\\Users\\joshi\\Anaconda3\\envs\\tfcpu\\lib\\site-packages\\tensorboard\\compat\\tensorflow_stub\\dtypes.py:544: FutureWarning: Passing (type, 1) or '1type' as a synonym of type is deprecated; in a future version of numpy, it will be understood as (type, (1,)) / '(1,)type'.\n",
      "  _np_quint16 = np.dtype([(\"quint16\", np.uint16, 1)])\n",
      "C:\\Users\\joshi\\Anaconda3\\envs\\tfcpu\\lib\\site-packages\\tensorboard\\compat\\tensorflow_stub\\dtypes.py:545: FutureWarning: Passing (type, 1) or '1type' as a synonym of type is deprecated; in a future version of numpy, it will be understood as (type, (1,)) / '(1,)type'.\n",
      "  _np_qint32 = np.dtype([(\"qint32\", np.int32, 1)])\n",
      "C:\\Users\\joshi\\Anaconda3\\envs\\tfcpu\\lib\\site-packages\\tensorboard\\compat\\tensorflow_stub\\dtypes.py:550: FutureWarning: Passing (type, 1) or '1type' as a synonym of type is deprecated; in a future version of numpy, it will be understood as (type, (1,)) / '(1,)type'.\n",
      "  np_resource = np.dtype([(\"resource\", np.ubyte, 1)])\n",
      "Using TensorFlow backend.\n"
     ]
    }
   ],
   "source": [
    "import os\n",
    "import tensorflow as tf\n",
    "from keras import layers\n",
    "from keras import Model\n",
    "from os import getcwd\n",
    "from keras.optimizers import RMSprop\n",
    "from keras.preprocessing.image import ImageDataGenerator\n",
    "import cv2\n",
    "from tqdm import tqdm\n",
    "import matplotlib.pyplot as plt\n",
    "from keras.optimizers import RMSprop\n",
    "import keras\n",
    "from keras.models import Sequential, Model\n",
    "from keras.layers import Conv2D, Dense, MaxPooling2D, Flatten, Dropout,GlobalAveragePooling2D\n",
    "from keras.preprocessing.image import ImageDataGenerator\n",
    "from keras.optimizers import Adam, SGD"
   ]
  },
  {
   "cell_type": "code",
   "execution_count": 2,
   "metadata": {},
   "outputs": [
    {
     "name": "stdout",
     "output_type": "stream",
     "text": [
      "WARNING:tensorflow:From C:\\Users\\joshi\\Anaconda3\\envs\\tfcpu\\lib\\site-packages\\keras\\backend\\tensorflow_backend.py:4070: The name tf.nn.max_pool is deprecated. Please use tf.nn.max_pool2d instead.\n",
      "\n",
      "Model: \"vgg16\"\n",
      "_________________________________________________________________\n",
      "Layer (type)                 Output Shape              Param #   \n",
      "=================================================================\n",
      "input_1 (InputLayer)         (None, 224, 224, 3)       0         \n",
      "_________________________________________________________________\n",
      "block1_conv1 (Conv2D)        (None, 224, 224, 64)      1792      \n",
      "_________________________________________________________________\n",
      "block1_conv2 (Conv2D)        (None, 224, 224, 64)      36928     \n",
      "_________________________________________________________________\n",
      "block1_pool (MaxPooling2D)   (None, 112, 112, 64)      0         \n",
      "_________________________________________________________________\n",
      "block2_conv1 (Conv2D)        (None, 112, 112, 128)     73856     \n",
      "_________________________________________________________________\n",
      "block2_conv2 (Conv2D)        (None, 112, 112, 128)     147584    \n",
      "_________________________________________________________________\n",
      "block2_pool (MaxPooling2D)   (None, 56, 56, 128)       0         \n",
      "_________________________________________________________________\n",
      "block3_conv1 (Conv2D)        (None, 56, 56, 256)       295168    \n",
      "_________________________________________________________________\n",
      "block3_conv2 (Conv2D)        (None, 56, 56, 256)       590080    \n",
      "_________________________________________________________________\n",
      "block3_conv3 (Conv2D)        (None, 56, 56, 256)       590080    \n",
      "_________________________________________________________________\n",
      "block3_pool (MaxPooling2D)   (None, 28, 28, 256)       0         \n",
      "_________________________________________________________________\n",
      "block4_conv1 (Conv2D)        (None, 28, 28, 512)       1180160   \n",
      "_________________________________________________________________\n",
      "block4_conv2 (Conv2D)        (None, 28, 28, 512)       2359808   \n",
      "_________________________________________________________________\n",
      "block4_conv3 (Conv2D)        (None, 28, 28, 512)       2359808   \n",
      "_________________________________________________________________\n",
      "block4_pool (MaxPooling2D)   (None, 14, 14, 512)       0         \n",
      "_________________________________________________________________\n",
      "block5_conv1 (Conv2D)        (None, 14, 14, 512)       2359808   \n",
      "_________________________________________________________________\n",
      "block5_conv2 (Conv2D)        (None, 14, 14, 512)       2359808   \n",
      "_________________________________________________________________\n",
      "block5_conv3 (Conv2D)        (None, 14, 14, 512)       2359808   \n",
      "_________________________________________________________________\n",
      "block5_pool (MaxPooling2D)   (None, 7, 7, 512)         0         \n",
      "_________________________________________________________________\n",
      "flatten (Flatten)            (None, 25088)             0         \n",
      "_________________________________________________________________\n",
      "fc1 (Dense)                  (None, 4096)              102764544 \n",
      "_________________________________________________________________\n",
      "fc2 (Dense)                  (None, 4096)              16781312  \n",
      "_________________________________________________________________\n",
      "predictions (Dense)          (None, 1000)              4097000   \n",
      "=================================================================\n",
      "Total params: 138,357,544\n",
      "Trainable params: 138,357,544\n",
      "Non-trainable params: 0\n",
      "_________________________________________________________________\n"
     ]
    }
   ],
   "source": [
    "model = keras.applications.VGG16(input_shape = (224, 224, 3), \n",
    "                                include_top = True, \n",
    "                                weights = 'imagenet')\n",
    "\n",
    "\n",
    "for layer in model.layers:\n",
    "    layer.trainable = True\n",
    "    \n",
    "model.summary()"
   ]
  },
  {
   "cell_type": "code",
   "execution_count": 3,
   "metadata": {},
   "outputs": [
    {
     "name": "stdout",
     "output_type": "stream",
     "text": [
      "Model: \"model_1\"\n",
      "_________________________________________________________________\n",
      "Layer (type)                 Output Shape              Param #   \n",
      "=================================================================\n",
      "input_1 (InputLayer)         (None, 224, 224, 3)       0         \n",
      "_________________________________________________________________\n",
      "block1_conv1 (Conv2D)        (None, 224, 224, 64)      1792      \n",
      "_________________________________________________________________\n",
      "block1_conv2 (Conv2D)        (None, 224, 224, 64)      36928     \n",
      "_________________________________________________________________\n",
      "block1_pool (MaxPooling2D)   (None, 112, 112, 64)      0         \n",
      "_________________________________________________________________\n",
      "block2_conv1 (Conv2D)        (None, 112, 112, 128)     73856     \n",
      "_________________________________________________________________\n",
      "block2_conv2 (Conv2D)        (None, 112, 112, 128)     147584    \n",
      "_________________________________________________________________\n",
      "block2_pool (MaxPooling2D)   (None, 56, 56, 128)       0         \n",
      "_________________________________________________________________\n",
      "block3_conv1 (Conv2D)        (None, 56, 56, 256)       295168    \n",
      "_________________________________________________________________\n",
      "block3_conv2 (Conv2D)        (None, 56, 56, 256)       590080    \n",
      "_________________________________________________________________\n",
      "block3_conv3 (Conv2D)        (None, 56, 56, 256)       590080    \n",
      "_________________________________________________________________\n",
      "block3_pool (MaxPooling2D)   (None, 28, 28, 256)       0         \n",
      "_________________________________________________________________\n",
      "block4_conv1 (Conv2D)        (None, 28, 28, 512)       1180160   \n",
      "_________________________________________________________________\n",
      "block4_conv2 (Conv2D)        (None, 28, 28, 512)       2359808   \n",
      "_________________________________________________________________\n",
      "block4_conv3 (Conv2D)        (None, 28, 28, 512)       2359808   \n",
      "_________________________________________________________________\n",
      "block4_pool (MaxPooling2D)   (None, 14, 14, 512)       0         \n",
      "_________________________________________________________________\n",
      "block5_conv1 (Conv2D)        (None, 14, 14, 512)       2359808   \n",
      "_________________________________________________________________\n",
      "block5_conv2 (Conv2D)        (None, 14, 14, 512)       2359808   \n",
      "_________________________________________________________________\n",
      "block5_conv3 (Conv2D)        (None, 14, 14, 512)       2359808   \n",
      "_________________________________________________________________\n",
      "block5_pool (MaxPooling2D)   (None, 7, 7, 512)         0         \n",
      "_________________________________________________________________\n",
      "flatten (Flatten)            (None, 25088)             0         \n",
      "_________________________________________________________________\n",
      "fc1 (Dense)                  (None, 4096)              102764544 \n",
      "_________________________________________________________________\n",
      "fc2 (Dense)                  (None, 4096)              16781312  \n",
      "_________________________________________________________________\n",
      "dense_1 (Dense)              (None, 2)                 8194      \n",
      "=================================================================\n",
      "Total params: 134,268,738\n",
      "Trainable params: 134,268,738\n",
      "Non-trainable params: 0\n",
      "_________________________________________________________________\n"
     ]
    }
   ],
   "source": [
    "last_layer = model.get_layer('fc2')\n",
    "last_output = last_layer.output\n",
    "\n",
    "x = keras.layers.Dense(2,activation='softmax')(last_output)           \n",
    "\n",
    "model = Model( model.input, x) \n",
    "\n",
    "model.compile(optimizer = Adam(lr=0.00001), \n",
    "              loss = 'categorical_crossentropy', \n",
    "              metrics = ['acc'])\n",
    "\n",
    "model.summary()"
   ]
  },
  {
   "cell_type": "code",
   "execution_count": 4,
   "metadata": {},
   "outputs": [
    {
     "name": "stdout",
     "output_type": "stream",
     "text": [
      "955\n",
      "60\n",
      "1170\n",
      "58\n"
     ]
    }
   ],
   "source": [
    "data_dir = \"C:\\\\Users\\\\joshi\\\\OneDrive\\\\Desktop\\\\NIT Surat\\\\Modified COVID\\\\Data\\\\\" # Your Dataset Location Path\n",
    "train_dir = os.path.join(data_dir, 'Train')\n",
    "val_dir = os.path.join(data_dir, 'Val')\n",
    "train_malaria_dir = os.path.join(train_dir, 'COVID') #Replace the folder names\n",
    "train_uninfected_dir = os.path.join(train_dir, 'NON-COVID')\n",
    "validation_malaria_dir = os.path.join(val_dir, 'COVID')\n",
    "validation_uninfected_dir = os.path.join(val_dir, 'NON-COVID')\n",
    "\n",
    "train_malaria_fnames = os.listdir(train_malaria_dir)\n",
    "train_uninfected_fnames = os.listdir(train_uninfected_dir)\n",
    "validation_malaria_fnames = os.listdir(validation_malaria_dir)\n",
    "validation_uninfected_fnames = os.listdir(validation_uninfected_dir)\n",
    "\n",
    "print(len(train_malaria_fnames))\n",
    "print(len(validation_malaria_fnames))\n",
    "print(len(train_uninfected_fnames))\n",
    "print(len(validation_uninfected_fnames))"
   ]
  },
  {
   "cell_type": "code",
   "execution_count": 5,
   "metadata": {},
   "outputs": [
    {
     "name": "stdout",
     "output_type": "stream",
     "text": [
      "Found 2125 images belonging to 2 classes.\n",
      "Found 118 images belonging to 2 classes.\n"
     ]
    }
   ],
   "source": [
    "train_datagen = ImageDataGenerator(rescale=1./255,\n",
    "                                   \n",
    "                                   )\n",
    "\n",
    "\n",
    "train_generator = train_datagen.flow_from_directory(train_dir,\n",
    "                                                    batch_size=8,\n",
    "                                                    class_mode='categorical',\n",
    "                                                    target_size=(224, 224)\n",
    "                                                    )\n",
    "validation_datagen = ImageDataGenerator(rescale=1./255)\n",
    " \n",
    "\n",
    "validation_generator = validation_datagen.flow_from_directory(val_dir,\n",
    "                                                              batch_size=8,\n",
    "                                                              class_mode='categorical',\n",
    "                                                              target_size=(224, 224))"
   ]
  },
  {
   "cell_type": "code",
   "execution_count": 6,
   "metadata": {},
   "outputs": [
    {
     "name": "stdout",
     "output_type": "stream",
     "text": [
      "WARNING:tensorflow:From C:\\Users\\joshi\\Anaconda3\\envs\\tfcpu\\lib\\site-packages\\keras\\backend\\tensorflow_backend.py:422: The name tf.global_variables is deprecated. Please use tf.compat.v1.global_variables instead.\n",
      "\n",
      "Epoch 1/20\n",
      "266/266 [==============================] - 1749s 7s/step - loss: 0.5839 - acc: 0.7002 - val_loss: 0.4248 - val_acc: 0.7034\n",
      "Epoch 2/20\n",
      "266/266 [==============================] - 1751s 7s/step - loss: 0.2490 - acc: 0.8936 - val_loss: 0.3775 - val_acc: 0.7966\n",
      "Epoch 3/20\n",
      "266/266 [==============================] - 1785s 7s/step - loss: 0.0783 - acc: 0.9689 - val_loss: 0.2814 - val_acc: 0.7458\n",
      "Epoch 4/20\n",
      "266/266 [==============================] - 1652s 6s/step - loss: 0.0242 - acc: 0.9925 - val_loss: 3.0259 - val_acc: 0.7458\n",
      "Epoch 5/20\n",
      "266/266 [==============================] - 1650s 6s/step - loss: 0.0546 - acc: 0.9779 - val_loss: 0.7666 - val_acc: 0.7458\n",
      "Epoch 6/20\n",
      "266/266 [==============================] - 1638s 6s/step - loss: 0.0041 - acc: 1.0000 - val_loss: 1.7965 - val_acc: 0.7797\n",
      "Epoch 7/20\n",
      "266/266 [==============================] - 1640s 6s/step - loss: 0.0408 - acc: 0.9868 - val_loss: 1.5002 - val_acc: 0.7712\n",
      "Epoch 8/20\n",
      "266/266 [==============================] - 1644s 6s/step - loss: 0.0768 - acc: 0.9732 - val_loss: 0.2263 - val_acc: 0.7627\n",
      "Epoch 9/20\n",
      "266/266 [==============================] - 1637s 6s/step - loss: 0.0032 - acc: 1.0000 - val_loss: 0.6052 - val_acc: 0.7881\n",
      "Epoch 10/20\n",
      "266/266 [==============================] - 1661s 6s/step - loss: 4.2617e-04 - acc: 1.0000 - val_loss: 0.1137 - val_acc: 0.7712\n",
      "Epoch 11/20\n",
      "266/266 [==============================] - 1643s 6s/step - loss: 1.6824e-04 - acc: 1.0000 - val_loss: 4.1320 - val_acc: 0.7797\n",
      "Epoch 12/20\n",
      "266/266 [==============================] - 1647s 6s/step - loss: 1.0921e-04 - acc: 1.0000 - val_loss: 0.1234 - val_acc: 0.7881\n",
      "Epoch 13/20\n",
      "266/266 [==============================] - 1633s 6s/step - loss: 7.1413e-05 - acc: 1.0000 - val_loss: 0.2455 - val_acc: 0.7881\n",
      "Epoch 14/20\n",
      "266/266 [==============================] - 1776s 7s/step - loss: 4.7859e-05 - acc: 1.0000 - val_loss: 0.0744 - val_acc: 0.7881\n",
      "Epoch 15/20\n",
      "266/266 [==============================] - 2182s 8s/step - loss: 3.2485e-05 - acc: 1.0000 - val_loss: 2.8060 - val_acc: 0.7966\n",
      "Epoch 16/20\n",
      "266/266 [==============================] - 1907s 7s/step - loss: 2.2072e-05 - acc: 1.0000 - val_loss: 0.0066 - val_acc: 0.7966\n",
      "Epoch 17/20\n",
      "266/266 [==============================] - 1710s 6s/step - loss: 1.5457e-05 - acc: 1.0000 - val_loss: 0.5282 - val_acc: 0.7966\n",
      "Epoch 18/20\n",
      "266/266 [==============================] - 1841s 7s/step - loss: 1.1111e-05 - acc: 1.0000 - val_loss: 2.8976 - val_acc: 0.7966\n",
      "Epoch 19/20\n",
      "266/266 [==============================] - 1732s 7s/step - loss: 8.0410e-06 - acc: 1.0000 - val_loss: 0.0921 - val_acc: 0.7881\n",
      "Epoch 20/20\n",
      "266/266 [==============================] - 1642s 6s/step - loss: 6.0323e-06 - acc: 1.0000 - val_loss: 0.8428 - val_acc: 0.7966\n"
     ]
    }
   ],
   "source": [
    "history = model.fit_generator(train_generator,\n",
    "            validation_data = validation_generator,\n",
    "            epochs = 20)"
   ]
  },
  {
   "cell_type": "code",
   "execution_count": 7,
   "metadata": {},
   "outputs": [
    {
     "name": "stdout",
     "output_type": "stream",
     "text": [
      "98\n",
      "105\n"
     ]
    }
   ],
   "source": [
    "test_dir = os.path.join(data_dir, 'Test')\n",
    "test_malaria_dir = os.path.join(test_dir, 'COVID') #Replace the folder names\n",
    "test_uninfected_dir = os.path.join(test_dir, 'NON-COVID')\n",
    "test_malaria_fnames = os.listdir(test_malaria_dir)\n",
    "test_uninfected_fnames = os.listdir(test_uninfected_dir)\n",
    "print(len(test_malaria_fnames))\n",
    "print(len(test_uninfected_fnames))"
   ]
  },
  {
   "cell_type": "code",
   "execution_count": 8,
   "metadata": {},
   "outputs": [
    {
     "name": "stdout",
     "output_type": "stream",
     "text": [
      "Found 203 images belonging to 2 classes.\n"
     ]
    }
   ],
   "source": [
    "testGenerator = ImageDataGenerator().flow_from_directory(test_dir, \n",
    "                                                      batch_size=8,\n",
    "                                                    class_mode='categorical',shuffle=False,target_size=(224,224)\n",
    "                                                      )"
   ]
  },
  {
   "cell_type": "code",
   "execution_count": 9,
   "metadata": {},
   "outputs": [
    {
     "name": "stdout",
     "output_type": "stream",
     "text": [
      "['COVID', 'NON-COVID']\n",
      "[[75 23]\n",
      " [11 94]]\n",
      "              precision    recall  f1-score   support\n",
      "\n",
      "       COVID       0.87      0.77      0.82        98\n",
      "   NON-COVID       0.80      0.90      0.85       105\n",
      "\n",
      "    accuracy                           0.83       203\n",
      "   macro avg       0.84      0.83      0.83       203\n",
      "weighted avg       0.84      0.83      0.83       203\n",
      "\n"
     ]
    }
   ],
   "source": [
    "import numpy as np\n",
    "from sklearn.metrics import confusion_matrix,classification_report\n",
    "batch_size = 8\n",
    "num_of_test_samples = 203\n",
    "predictions = model.predict_generator(testGenerator)\n",
    "\n",
    "y_pred = np.argmax(predictions, axis=1)\n",
    "\n",
    "true_classes = testGenerator.classes\n",
    "\n",
    "class_labels = list(testGenerator.class_indices.keys())   \n",
    "\n",
    "print(class_labels)\n",
    "\n",
    "print(confusion_matrix(testGenerator.classes, y_pred))\n",
    "\n",
    "report = classification_report(true_classes, y_pred, target_names=class_labels)\n",
    "print(report)"
   ]
  },
  {
   "cell_type": "code",
   "execution_count": 10,
   "metadata": {},
   "outputs": [
    {
     "data": {
      "text/plain": [
       "0.8377559133373087"
      ]
     },
     "execution_count": 10,
     "metadata": {},
     "output_type": "execute_result"
    }
   ],
   "source": [
    "from sklearn import metrics\n",
    "metrics.roc_auc_score(y_pred, testGenerator.classes)"
   ]
  },
  {
   "cell_type": "code",
   "execution_count": 11,
   "metadata": {},
   "outputs": [
    {
     "data": {
      "text/plain": [
       "0.8325123152709359"
      ]
     },
     "execution_count": 11,
     "metadata": {},
     "output_type": "execute_result"
    }
   ],
   "source": [
    "metrics.accuracy_score(testGenerator.classes, y_pred)"
   ]
  },
  {
   "cell_type": "code",
   "execution_count": null,
   "metadata": {},
   "outputs": [],
   "source": []
  }
 ],
 "metadata": {
  "kernelspec": {
   "display_name": "tfcpu",
   "language": "python",
   "name": "tfcpu"
  },
  "language_info": {
   "codemirror_mode": {
    "name": "ipython",
    "version": 3
   },
   "file_extension": ".py",
   "mimetype": "text/x-python",
   "name": "python",
   "nbconvert_exporter": "python",
   "pygments_lexer": "ipython3",
   "version": "3.6.10"
  }
 },
 "nbformat": 4,
 "nbformat_minor": 4
}
