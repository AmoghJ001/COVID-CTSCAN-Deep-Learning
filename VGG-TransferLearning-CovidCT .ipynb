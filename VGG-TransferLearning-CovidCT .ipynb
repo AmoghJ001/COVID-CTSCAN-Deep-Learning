{
 "cells": [
  {
   "cell_type": "code",
   "execution_count": 1,
   "metadata": {},
   "outputs": [
    {
     "name": "stderr",
     "output_type": "stream",
     "text": [
      "C:\\Users\\joshi\\Anaconda3\\envs\\tfcpu\\lib\\site-packages\\tensorflow\\python\\framework\\dtypes.py:516: FutureWarning: Passing (type, 1) or '1type' as a synonym of type is deprecated; in a future version of numpy, it will be understood as (type, (1,)) / '(1,)type'.\n",
      "  _np_qint8 = np.dtype([(\"qint8\", np.int8, 1)])\n",
      "C:\\Users\\joshi\\Anaconda3\\envs\\tfcpu\\lib\\site-packages\\tensorflow\\python\\framework\\dtypes.py:517: FutureWarning: Passing (type, 1) or '1type' as a synonym of type is deprecated; in a future version of numpy, it will be understood as (type, (1,)) / '(1,)type'.\n",
      "  _np_quint8 = np.dtype([(\"quint8\", np.uint8, 1)])\n",
      "C:\\Users\\joshi\\Anaconda3\\envs\\tfcpu\\lib\\site-packages\\tensorflow\\python\\framework\\dtypes.py:518: FutureWarning: Passing (type, 1) or '1type' as a synonym of type is deprecated; in a future version of numpy, it will be understood as (type, (1,)) / '(1,)type'.\n",
      "  _np_qint16 = np.dtype([(\"qint16\", np.int16, 1)])\n",
      "C:\\Users\\joshi\\Anaconda3\\envs\\tfcpu\\lib\\site-packages\\tensorflow\\python\\framework\\dtypes.py:519: FutureWarning: Passing (type, 1) or '1type' as a synonym of type is deprecated; in a future version of numpy, it will be understood as (type, (1,)) / '(1,)type'.\n",
      "  _np_quint16 = np.dtype([(\"quint16\", np.uint16, 1)])\n",
      "C:\\Users\\joshi\\Anaconda3\\envs\\tfcpu\\lib\\site-packages\\tensorflow\\python\\framework\\dtypes.py:520: FutureWarning: Passing (type, 1) or '1type' as a synonym of type is deprecated; in a future version of numpy, it will be understood as (type, (1,)) / '(1,)type'.\n",
      "  _np_qint32 = np.dtype([(\"qint32\", np.int32, 1)])\n",
      "C:\\Users\\joshi\\Anaconda3\\envs\\tfcpu\\lib\\site-packages\\tensorflow\\python\\framework\\dtypes.py:525: FutureWarning: Passing (type, 1) or '1type' as a synonym of type is deprecated; in a future version of numpy, it will be understood as (type, (1,)) / '(1,)type'.\n",
      "  np_resource = np.dtype([(\"resource\", np.ubyte, 1)])\n",
      "C:\\Users\\joshi\\Anaconda3\\envs\\tfcpu\\lib\\site-packages\\tensorboard\\compat\\tensorflow_stub\\dtypes.py:541: FutureWarning: Passing (type, 1) or '1type' as a synonym of type is deprecated; in a future version of numpy, it will be understood as (type, (1,)) / '(1,)type'.\n",
      "  _np_qint8 = np.dtype([(\"qint8\", np.int8, 1)])\n",
      "C:\\Users\\joshi\\Anaconda3\\envs\\tfcpu\\lib\\site-packages\\tensorboard\\compat\\tensorflow_stub\\dtypes.py:542: FutureWarning: Passing (type, 1) or '1type' as a synonym of type is deprecated; in a future version of numpy, it will be understood as (type, (1,)) / '(1,)type'.\n",
      "  _np_quint8 = np.dtype([(\"quint8\", np.uint8, 1)])\n",
      "C:\\Users\\joshi\\Anaconda3\\envs\\tfcpu\\lib\\site-packages\\tensorboard\\compat\\tensorflow_stub\\dtypes.py:543: FutureWarning: Passing (type, 1) or '1type' as a synonym of type is deprecated; in a future version of numpy, it will be understood as (type, (1,)) / '(1,)type'.\n",
      "  _np_qint16 = np.dtype([(\"qint16\", np.int16, 1)])\n",
      "C:\\Users\\joshi\\Anaconda3\\envs\\tfcpu\\lib\\site-packages\\tensorboard\\compat\\tensorflow_stub\\dtypes.py:544: FutureWarning: Passing (type, 1) or '1type' as a synonym of type is deprecated; in a future version of numpy, it will be understood as (type, (1,)) / '(1,)type'.\n",
      "  _np_quint16 = np.dtype([(\"quint16\", np.uint16, 1)])\n",
      "C:\\Users\\joshi\\Anaconda3\\envs\\tfcpu\\lib\\site-packages\\tensorboard\\compat\\tensorflow_stub\\dtypes.py:545: FutureWarning: Passing (type, 1) or '1type' as a synonym of type is deprecated; in a future version of numpy, it will be understood as (type, (1,)) / '(1,)type'.\n",
      "  _np_qint32 = np.dtype([(\"qint32\", np.int32, 1)])\n",
      "C:\\Users\\joshi\\Anaconda3\\envs\\tfcpu\\lib\\site-packages\\tensorboard\\compat\\tensorflow_stub\\dtypes.py:550: FutureWarning: Passing (type, 1) or '1type' as a synonym of type is deprecated; in a future version of numpy, it will be understood as (type, (1,)) / '(1,)type'.\n",
      "  np_resource = np.dtype([(\"resource\", np.ubyte, 1)])\n",
      "Using TensorFlow backend.\n"
     ]
    }
   ],
   "source": [
    "import os\n",
    "import tensorflow as tf\n",
    "from keras import layers\n",
    "from keras import Model\n",
    "from os import getcwd\n",
    "from keras.optimizers import RMSprop\n",
    "from keras.preprocessing.image import ImageDataGenerator\n",
    "import cv2\n",
    "from tqdm import tqdm\n",
    "import matplotlib.pyplot as plt\n",
    "from keras.optimizers import RMSprop\n",
    "import keras\n",
    "from keras.models import Sequential, Model\n",
    "from keras.layers import Conv2D, Dense, MaxPooling2D, Flatten, Dropout,GlobalAveragePooling2D\n",
    "from keras.preprocessing.image import ImageDataGenerator\n",
    "from keras.optimizers import Adam\n"
   ]
  },
  {
   "cell_type": "code",
   "execution_count": 2,
   "metadata": {},
   "outputs": [
    {
     "name": "stdout",
     "output_type": "stream",
     "text": [
      "WARNING:tensorflow:From C:\\Users\\joshi\\Anaconda3\\envs\\tfcpu\\lib\\site-packages\\keras\\backend\\tensorflow_backend.py:4070: The name tf.nn.max_pool is deprecated. Please use tf.nn.max_pool2d instead.\n",
      "\n",
      "Model: \"vgg16\"\n",
      "_________________________________________________________________\n",
      "Layer (type)                 Output Shape              Param #   \n",
      "=================================================================\n",
      "input_1 (InputLayer)         (None, 224, 224, 3)       0         \n",
      "_________________________________________________________________\n",
      "block1_conv1 (Conv2D)        (None, 224, 224, 64)      1792      \n",
      "_________________________________________________________________\n",
      "block1_conv2 (Conv2D)        (None, 224, 224, 64)      36928     \n",
      "_________________________________________________________________\n",
      "block1_pool (MaxPooling2D)   (None, 112, 112, 64)      0         \n",
      "_________________________________________________________________\n",
      "block2_conv1 (Conv2D)        (None, 112, 112, 128)     73856     \n",
      "_________________________________________________________________\n",
      "block2_conv2 (Conv2D)        (None, 112, 112, 128)     147584    \n",
      "_________________________________________________________________\n",
      "block2_pool (MaxPooling2D)   (None, 56, 56, 128)       0         \n",
      "_________________________________________________________________\n",
      "block3_conv1 (Conv2D)        (None, 56, 56, 256)       295168    \n",
      "_________________________________________________________________\n",
      "block3_conv2 (Conv2D)        (None, 56, 56, 256)       590080    \n",
      "_________________________________________________________________\n",
      "block3_conv3 (Conv2D)        (None, 56, 56, 256)       590080    \n",
      "_________________________________________________________________\n",
      "block3_pool (MaxPooling2D)   (None, 28, 28, 256)       0         \n",
      "_________________________________________________________________\n",
      "block4_conv1 (Conv2D)        (None, 28, 28, 512)       1180160   \n",
      "_________________________________________________________________\n",
      "block4_conv2 (Conv2D)        (None, 28, 28, 512)       2359808   \n",
      "_________________________________________________________________\n",
      "block4_conv3 (Conv2D)        (None, 28, 28, 512)       2359808   \n",
      "_________________________________________________________________\n",
      "block4_pool (MaxPooling2D)   (None, 14, 14, 512)       0         \n",
      "_________________________________________________________________\n",
      "block5_conv1 (Conv2D)        (None, 14, 14, 512)       2359808   \n",
      "_________________________________________________________________\n",
      "block5_conv2 (Conv2D)        (None, 14, 14, 512)       2359808   \n",
      "_________________________________________________________________\n",
      "block5_conv3 (Conv2D)        (None, 14, 14, 512)       2359808   \n",
      "_________________________________________________________________\n",
      "block5_pool (MaxPooling2D)   (None, 7, 7, 512)         0         \n",
      "=================================================================\n",
      "Total params: 14,714,688\n",
      "Trainable params: 0\n",
      "Non-trainable params: 14,714,688\n",
      "_________________________________________________________________\n"
     ]
    }
   ],
   "source": [
    "\n",
    "model = keras.applications.VGG16(input_shape = (224, 224, 3), \n",
    "                                include_top = False, \n",
    "                                weights = 'imagenet')\n",
    "\n",
    "\n",
    "for layer in model.layers:\n",
    "    layer.trainable = False\n",
    "    \n",
    "model.summary()"
   ]
  },
  {
   "cell_type": "code",
   "execution_count": 3,
   "metadata": {},
   "outputs": [
    {
     "name": "stdout",
     "output_type": "stream",
     "text": [
      "WARNING:tensorflow:From C:\\Users\\joshi\\Anaconda3\\envs\\tfcpu\\lib\\site-packages\\tensorflow\\python\\ops\\nn_impl.py:180: add_dispatch_support.<locals>.wrapper (from tensorflow.python.ops.array_ops) is deprecated and will be removed in a future version.\n",
      "Instructions for updating:\n",
      "Use tf.where in 2.0, which has the same broadcast rule as np.where\n",
      "Model: \"model_1\"\n",
      "_________________________________________________________________\n",
      "Layer (type)                 Output Shape              Param #   \n",
      "=================================================================\n",
      "input_1 (InputLayer)         (None, 224, 224, 3)       0         \n",
      "_________________________________________________________________\n",
      "block1_conv1 (Conv2D)        (None, 224, 224, 64)      1792      \n",
      "_________________________________________________________________\n",
      "block1_conv2 (Conv2D)        (None, 224, 224, 64)      36928     \n",
      "_________________________________________________________________\n",
      "block1_pool (MaxPooling2D)   (None, 112, 112, 64)      0         \n",
      "_________________________________________________________________\n",
      "block2_conv1 (Conv2D)        (None, 112, 112, 128)     73856     \n",
      "_________________________________________________________________\n",
      "block2_conv2 (Conv2D)        (None, 112, 112, 128)     147584    \n",
      "_________________________________________________________________\n",
      "block2_pool (MaxPooling2D)   (None, 56, 56, 128)       0         \n",
      "_________________________________________________________________\n",
      "block3_conv1 (Conv2D)        (None, 56, 56, 256)       295168    \n",
      "_________________________________________________________________\n",
      "block3_conv2 (Conv2D)        (None, 56, 56, 256)       590080    \n",
      "_________________________________________________________________\n",
      "block3_conv3 (Conv2D)        (None, 56, 56, 256)       590080    \n",
      "_________________________________________________________________\n",
      "block3_pool (MaxPooling2D)   (None, 28, 28, 256)       0         \n",
      "_________________________________________________________________\n",
      "block4_conv1 (Conv2D)        (None, 28, 28, 512)       1180160   \n",
      "_________________________________________________________________\n",
      "block4_conv2 (Conv2D)        (None, 28, 28, 512)       2359808   \n",
      "_________________________________________________________________\n",
      "block4_conv3 (Conv2D)        (None, 28, 28, 512)       2359808   \n",
      "_________________________________________________________________\n",
      "block4_pool (MaxPooling2D)   (None, 14, 14, 512)       0         \n",
      "_________________________________________________________________\n",
      "block5_conv1 (Conv2D)        (None, 14, 14, 512)       2359808   \n",
      "_________________________________________________________________\n",
      "block5_conv2 (Conv2D)        (None, 14, 14, 512)       2359808   \n",
      "_________________________________________________________________\n",
      "block5_conv3 (Conv2D)        (None, 14, 14, 512)       2359808   \n",
      "_________________________________________________________________\n",
      "block5_pool (MaxPooling2D)   (None, 7, 7, 512)         0         \n",
      "_________________________________________________________________\n",
      "global_average_pooling2d_1 ( (None, 512)               0         \n",
      "_________________________________________________________________\n",
      "dense_1 (Dense)              (None, 512)               262656    \n",
      "_________________________________________________________________\n",
      "dropout_1 (Dropout)          (None, 512)               0         \n",
      "_________________________________________________________________\n",
      "dense_2 (Dense)              (None, 512)               262656    \n",
      "_________________________________________________________________\n",
      "dropout_2 (Dropout)          (None, 512)               0         \n",
      "_________________________________________________________________\n",
      "dense_3 (Dense)              (None, 1)                 513       \n",
      "=================================================================\n",
      "Total params: 15,240,513\n",
      "Trainable params: 525,825\n",
      "Non-trainable params: 14,714,688\n",
      "_________________________________________________________________\n"
     ]
    }
   ],
   "source": [
    "last_layer = model.get_layer('block5_pool')\n",
    "last_output = last_layer.output\n",
    "x = layers.GlobalAveragePooling2D()(last_output)\n",
    "x = layers.Dense(512, activation='relu')(x)\n",
    "x = layers.Dropout(0.4)(x)  \n",
    "x = layers.Dense(512, activation='relu')(x)\n",
    "x = layers.Dropout(0.4)(x)  \n",
    "\n",
    "x = keras.layers.Dense(1,activation='sigmoid')(x)           \n",
    "\n",
    "model = Model( model.input, x) \n",
    "\n",
    "model.compile(optimizer = Adam(lr=0.001), \n",
    "              loss = 'binary_crossentropy', \n",
    "              metrics = ['acc'])\n",
    "\n",
    "model.summary()"
   ]
  },
  {
   "cell_type": "code",
   "execution_count": 4,
   "metadata": {},
   "outputs": [
    {
     "name": "stdout",
     "output_type": "stream",
     "text": [
      "956\n",
      "60\n",
      "1170\n",
      "58\n"
     ]
    }
   ],
   "source": [
    "data_dir = \"C:\\\\Users\\\\joshi\\\\OneDrive\\\\Desktop\\\\NIT Surat\\\\COVID-CT-master\\\\Data\" # Your Dataset Location Path\n",
    "train_dir = os.path.join(data_dir, 'Train')\n",
    "val_dir = os.path.join(data_dir, 'Val')\n",
    "train_malaria_dir = os.path.join(train_dir, 'COVID') #Replace the folder names\n",
    "train_uninfected_dir = os.path.join(train_dir, 'NON-COVID')\n",
    "validation_malaria_dir = os.path.join(val_dir, 'COVID')\n",
    "validation_uninfected_dir = os.path.join(val_dir, 'NON-COVID')\n",
    "\n",
    "train_malaria_fnames = os.listdir(train_malaria_dir)\n",
    "train_uninfected_fnames = os.listdir(train_uninfected_dir)\n",
    "validation_malaria_fnames = os.listdir(validation_malaria_dir)\n",
    "validation_uninfected_fnames = os.listdir(validation_uninfected_dir)\n",
    "\n",
    "print(len(train_malaria_fnames))\n",
    "print(len(validation_malaria_fnames))\n",
    "print(len(train_uninfected_fnames))\n",
    "print(len(validation_uninfected_fnames))"
   ]
  },
  {
   "cell_type": "code",
   "execution_count": 5,
   "metadata": {},
   "outputs": [
    {
     "name": "stdout",
     "output_type": "stream",
     "text": [
      "Found 2125 images belonging to 2 classes.\n",
      "Found 118 images belonging to 2 classes.\n"
     ]
    }
   ],
   "source": [
    "train_datagen = ImageDataGenerator(rescale=1./255,\n",
    "                                   \n",
    "                                   )\n",
    "\n",
    "\n",
    "train_generator = train_datagen.flow_from_directory(train_dir,\n",
    "                                                    batch_size=8,\n",
    "                                                    class_mode='binary',\n",
    "                                                    target_size=(224, 224)\n",
    "                                                    )\n",
    "validation_datagen = ImageDataGenerator(rescale=1./255)\n",
    " \n",
    "\n",
    "validation_generator = validation_datagen.flow_from_directory(val_dir,\n",
    "                                                              batch_size=8,\n",
    "                                                              class_mode='binary',\n",
    "                                                              target_size=(224, 224))\n"
   ]
  },
  {
   "cell_type": "code",
   "execution_count": 6,
   "metadata": {},
   "outputs": [],
   "source": [
    "import keras\n",
    "from keras.callbacks import EarlyStopping\n",
    "\n",
    "es = EarlyStopping(monitor='val_loss', mode='min', verbose=1, patience=5)"
   ]
  },
  {
   "cell_type": "code",
   "execution_count": 7,
   "metadata": {},
   "outputs": [
    {
     "name": "stdout",
     "output_type": "stream",
     "text": [
      "WARNING:tensorflow:From C:\\Users\\joshi\\Anaconda3\\envs\\tfcpu\\lib\\site-packages\\keras\\backend\\tensorflow_backend.py:422: The name tf.global_variables is deprecated. Please use tf.compat.v1.global_variables instead.\n",
      "\n",
      "Epoch 1/25\n",
      "266/266 [==============================] - 284s 1s/step - loss: 0.6867 - acc: 0.5864 - val_loss: 0.6465 - val_acc: 0.5593\n",
      "Epoch 2/25\n",
      "266/266 [==============================] - 289s 1s/step - loss: 0.6083 - acc: 0.6739 - val_loss: 0.8771 - val_acc: 0.5678\n",
      "Epoch 3/25\n",
      "266/266 [==============================] - 289s 1s/step - loss: 0.5606 - acc: 0.7087 - val_loss: 0.6748 - val_acc: 0.6780\n",
      "Epoch 4/25\n",
      "266/266 [==============================] - 289s 1s/step - loss: 0.5284 - acc: 0.7412 - val_loss: 0.6028 - val_acc: 0.6441\n",
      "Epoch 5/25\n",
      "266/266 [==============================] - 290s 1s/step - loss: 0.5191 - acc: 0.7332 - val_loss: 0.7036 - val_acc: 0.7203\n",
      "Epoch 6/25\n",
      "266/266 [==============================] - 288s 1s/step - loss: 0.4837 - acc: 0.7586 - val_loss: 0.6586 - val_acc: 0.6864\n",
      "Epoch 7/25\n",
      "266/266 [==============================] - 288s 1s/step - loss: 0.4839 - acc: 0.7722 - val_loss: 0.9117 - val_acc: 0.6949\n",
      "Epoch 8/25\n",
      "266/266 [==============================] - 288s 1s/step - loss: 0.4696 - acc: 0.7741 - val_loss: 0.5525 - val_acc: 0.7458\n",
      "Epoch 9/25\n",
      "266/266 [==============================] - 288s 1s/step - loss: 0.4686 - acc: 0.7675 - val_loss: 0.6098 - val_acc: 0.7034\n",
      "Epoch 10/25\n",
      "266/266 [==============================] - 288s 1s/step - loss: 0.4400 - acc: 0.7864 - val_loss: 0.3521 - val_acc: 0.6949\n",
      "Epoch 11/25\n",
      "266/266 [==============================] - 290s 1s/step - loss: 0.4219 - acc: 0.7958 - val_loss: 0.4012 - val_acc: 0.7458\n",
      "Epoch 12/25\n",
      "266/266 [==============================] - 289s 1s/step - loss: 0.4156 - acc: 0.7986 - val_loss: 0.8589 - val_acc: 0.7203\n",
      "Epoch 13/25\n",
      "266/266 [==============================] - 290s 1s/step - loss: 0.3969 - acc: 0.8169 - val_loss: 0.2422 - val_acc: 0.7203\n",
      "Epoch 14/25\n",
      "266/266 [==============================] - 289s 1s/step - loss: 0.4070 - acc: 0.8028 - val_loss: 0.2634 - val_acc: 0.7458\n",
      "Epoch 15/25\n",
      "266/266 [==============================] - 286s 1s/step - loss: 0.3970 - acc: 0.8005 - val_loss: 0.5306 - val_acc: 0.6949\n",
      "Epoch 16/25\n",
      "266/266 [==============================] - 282s 1s/step - loss: 0.3927 - acc: 0.8033 - val_loss: 1.4917 - val_acc: 0.7373\n",
      "Epoch 17/25\n",
      "266/266 [==============================] - 280s 1s/step - loss: 0.3744 - acc: 0.8264 - val_loss: 1.2760 - val_acc: 0.6864\n",
      "Epoch 18/25\n",
      "266/266 [==============================] - 279s 1s/step - loss: 0.3843 - acc: 0.8061 - val_loss: 1.0258 - val_acc: 0.7712\n",
      "Epoch 00018: early stopping\n"
     ]
    }
   ],
   "source": [
    "history = model.fit_generator(train_generator,\n",
    "            validation_data = validation_generator,callbacks = [ es],\n",
    "            epochs = 25)"
   ]
  },
  {
   "cell_type": "code",
   "execution_count": 8,
   "metadata": {},
   "outputs": [
    {
     "name": "stdout",
     "output_type": "stream",
     "text": [
      "98\n",
      "105\n"
     ]
    }
   ],
   "source": [
    "test_dir = os.path.join(data_dir, 'Test')\n",
    "test_malaria_dir = os.path.join(test_dir, 'COVID') #Replace the folder names\n",
    "test_uninfected_dir = os.path.join(test_dir, 'NON-COVID')\n",
    "test_malaria_fnames = os.listdir(test_malaria_dir)\n",
    "test_uninfected_fnames = os.listdir(test_uninfected_dir)\n",
    "print(len(test_malaria_fnames))\n",
    "print(len(test_uninfected_fnames))"
   ]
  },
  {
   "cell_type": "code",
   "execution_count": 9,
   "metadata": {},
   "outputs": [
    {
     "name": "stdout",
     "output_type": "stream",
     "text": [
      "Found 203 images belonging to 2 classes.\n"
     ]
    }
   ],
   "source": [
    "testGenerator = ImageDataGenerator().flow_from_directory(test_dir, \n",
    "                                                      batch_size=16,\n",
    "                                                    class_mode='binary',shuffle=False,target_size=(224,224)\n",
    "                                                      )"
   ]
  },
  {
   "cell_type": "code",
   "execution_count": 10,
   "metadata": {},
   "outputs": [
    {
     "name": "stdout",
     "output_type": "stream",
     "text": [
      "Confusion Matrix\n"
     ]
    },
    {
     "data": {
      "image/png": "[encoded data removed]",
      "text/plain": [
       "<Figure size 432x288 with 2 Axes>"
      ]
     },
     "metadata": {
      "needs_background": "light"
     },
     "output_type": "display_data"
    },
    {
     "name": "stdout",
     "output_type": "stream",
     "text": [
      "Classification Report\n",
      "              precision    recall  f1-score   support\n",
      "\n",
      "           0       0.57      0.81      0.67        98\n",
      "           1       0.71      0.44      0.54       105\n",
      "\n",
      "    accuracy                           0.62       203\n",
      "   macro avg       0.64      0.62      0.61       203\n",
      "weighted avg       0.64      0.62      0.60       203\n",
      "\n"
     ]
    }
   ],
   "source": [
    "import numpy as np\n",
    "import sklearn.metrics as metrics\n",
    "Y_pred = model.predict_generator(testGenerator, steps = np.ceil(testGenerator.samples / testGenerator.batch_size),workers=0)\n",
    "y_pred = np.where(Y_pred>0.5, 1, 0)\n",
    "print('Confusion Matrix')\n",
    "cm = metrics.confusion_matrix(testGenerator.classes, y_pred)\n",
    "plt.imshow(cm, cmap=plt.cm.Blues)\n",
    "plt.xlabel(\"Predicted labels\")\n",
    "plt.ylabel(\"True labels\")\n",
    "plt.xticks([], [])\n",
    "plt.yticks([], [])\n",
    "plt.title('Confusion matrix ')\n",
    "plt.colorbar()\n",
    "plt.show()\n",
    "\n",
    "print('Classification Report')\n",
    "print(metrics.classification_report(testGenerator.classes, y_pred))"
   ]
  },
  {
   "cell_type": "code",
   "execution_count": 11,
   "metadata": {},
   "outputs": [
    {
     "data": {
      "text/plain": [
       "0.6157635467980296"
      ]
     },
     "execution_count": 11,
     "metadata": {},
     "output_type": "execute_result"
    }
   ],
   "source": [
    "metrics.accuracy_score(testGenerator.classes, y_pred)"
   ]
  },
  {
   "cell_type": "code",
   "execution_count": 12,
   "metadata": {},
   "outputs": [
    {
     "data": {
      "text/plain": [
       "0.6400780379041249"
      ]
     },
     "execution_count": 12,
     "metadata": {},
     "output_type": "execute_result"
    }
   ],
   "source": [
    "metrics.roc_auc_score(y_pred, testGenerator.classes)"
   ]
  },
  {
   "cell_type": "code",
   "execution_count": null,
   "metadata": {},
   "outputs": [],
   "source": []
  }
 ],
 "metadata": {
  "kernelspec": {
   "display_name": "tfcpu",
   "language": "python",
   "name": "tfcpu"
  },
  "language_info": {
   "codemirror_mode": {
    "name": "ipython",
    "version": 3
   },
   "file_extension": ".py",
   "mimetype": "text/x-python",
   "name": "python",
   "nbconvert_exporter": "python",
   "pygments_lexer": "ipython3",
   "version": "3.6.10"
  }
 },
 "nbformat": 4,
 "nbformat_minor": 4
}
